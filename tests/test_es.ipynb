{
 "cells": [
  {
   "cell_type": "markdown",
   "id": "d4b9ae60-59d8-4b7c-8741-d74e93c36c5e",
   "metadata": {},
   "source": [
    "# Módulo de Entrada e Saída de dados - ES\n",
    "\n",
    "O módulo proverá uma função para leitura da API do TCE/RS e para produção dos gráficos."
   ]
  },
  {
   "cell_type": "code",
   "execution_count": 2,
   "id": "9d65cab5-9622-44d4-a74d-76ce046198c2",
   "metadata": {},
   "outputs": [],
   "source": [
    "# Função para consumo de API do TCE/RS\n",
    "\n",
    "import numpy as np\n",
    "import pandas as pd\n",
    "\n",
    "def leitor_dados(arquivo: str) -> pd.DataFrame:\n",
    "    return pd.read_csv(arquivo)\n",
    "    \n",
    "    pass"
   ]
  },
  {
   "cell_type": "code",
   "execution_count": 3,
   "id": "9a2d9f6d-2aac-417c-89c8-487c1cc5e29a",
   "metadata": {},
   "outputs": [],
   "source": [
    "dolar = pd.read_csv(\"https://olinda.bcb.gov.br/olinda/servico/PTAX/versao/v1/odata/CotacaoDolarDia(dataCotacao=@dataCotacao)?@dataCotacao='11-01-2023'&$top=100&$skip=0&$format=text/csv&$select=cotacaoCompra\")"
   ]
  },
  {
   "cell_type": "code",
   "execution_count": 4,
   "id": "3c7b248a-aa91-4e3e-9535-fca6d8d8ed5d",
   "metadata": {},
   "outputs": [
    {
     "name": "stdout",
     "output_type": "stream",
     "text": [
      "  cotacaoCompra\n",
      "0        5,0188\n"
     ]
    }
   ],
   "source": [
    "print(dolar)"
   ]
  },
  {
   "cell_type": "code",
   "execution_count": 5,
   "id": "c610b81e-b7cb-42fe-abf9-c0e25f8088cb",
   "metadata": {},
   "outputs": [
    {
     "data": {
      "text/plain": [
       "2"
      ]
     },
     "execution_count": 5,
     "metadata": {},
     "output_type": "execute_result"
    }
   ],
   "source": [
    "dolar.ndim"
   ]
  },
  {
   "cell_type": "code",
   "execution_count": null,
   "id": "88ece435-c59d-48e5-ac8a-1b8335fec92c",
   "metadata": {},
   "outputs": [],
   "source": [
    "balancete = pd.read_csv(\"https://dados.tce.rs.gov.br/dados/municipal/balancete-despesa/2023.csv\")"
   ]
  },
  {
   "cell_type": "code",
   "execution_count": null,
   "id": "2e60fcf6-585f-4c7d-ad09-4b646ab2f7f1",
   "metadata": {},
   "outputs": [],
   "source": [
    "print(balancete)"
   ]
  },
  {
   "cell_type": "code",
   "execution_count": null,
   "id": "ef7391fd-2f4e-495b-9756-9bc81ff1f4f5",
   "metadata": {},
   "outputs": [],
   "source": [
    "balancete.head()"
   ]
  },
  {
   "cell_type": "code",
   "execution_count": null,
   "id": "3a882004-6ec8-4f85-a059-e2c617feb003",
   "metadata": {},
   "outputs": [],
   "source": [
    "balancete.head(10)"
   ]
  },
  {
   "cell_type": "code",
   "execution_count": null,
   "id": "7c529d8b-82b8-465f-8e06-87038a841903",
   "metadata": {},
   "outputs": [],
   "source": [
    "url = \"https://dados.tce.rs.gov.br/dados/municipal/balancete-despesa/2023.csv\"\n",
    "dados = pd.read_csv(url)"
   ]
  },
  {
   "cell_type": "code",
   "execution_count": null,
   "id": "9bf502a4-1cc6-400c-af7b-ea3714985639",
   "metadata": {},
   "outputs": [],
   "source": [
    "print(dados)"
   ]
  },
  {
   "cell_type": "code",
   "execution_count": null,
   "id": "d1c4c6f3-bd36-4c29-8941-ae180dcea11c",
   "metadata": {},
   "outputs": [],
   "source": [
    "type(dados)"
   ]
  },
  {
   "cell_type": "code",
   "execution_count": null,
   "id": "decc3e9e-b6b9-4619-8fa9-a49c8a6fdf37",
   "metadata": {},
   "outputs": [],
   "source": [
    "# Função para consumo de API do TCE/RS\n",
    "\n",
    "import numpy as np\n",
    "import pandas as pd\n",
    "\n",
    "def leitor_dados(arquivo: str) -> pd.DataFrame:\n",
    "    return pd.read_csv(arquivo)"
   ]
  },
  {
   "cell_type": "code",
   "execution_count": null,
   "id": "b972494c-2eca-4a8e-91d9-bf407f354f26",
   "metadata": {},
   "outputs": [],
   "source": [
    "dados = leitor_dados(url)"
   ]
  },
  {
   "cell_type": "code",
   "execution_count": null,
   "id": "c6b76382-39da-4c72-8d37-89a8c9108359",
   "metadata": {},
   "outputs": [],
   "source": [
    "dados.head()"
   ]
  },
  {
   "cell_type": "code",
   "execution_count": null,
   "id": "77117d61-58ef-4149-8ec9-2dec4b9a8b0c",
   "metadata": {},
   "outputs": [],
   "source": [
    "dados[\"MES\"]"
   ]
  },
  {
   "cell_type": "code",
   "execution_count": null,
   "id": "5b0114e9-3b18-4c1c-8f66-6e8975077557",
   "metadata": {},
   "outputs": [],
   "source": [
    "dados[\"VL_EMPENHADO\"].max()"
   ]
  },
  {
   "cell_type": "code",
   "execution_count": null,
   "id": "71dc9733-e404-419a-b32d-24ce184683bc",
   "metadata": {},
   "outputs": [],
   "source": [
    "dados[\"VL_EMPENHADO\"].min()"
   ]
  },
  {
   "cell_type": "code",
   "execution_count": null,
   "id": "95ecfff1-9b92-4b9f-83a5-6a5d865c08d2",
   "metadata": {},
   "outputs": [],
   "source": [
    "dados.describe()"
   ]
  },
  {
   "cell_type": "code",
   "execution_count": null,
   "id": "94e7a7bf-a2f7-46b5-8c46-797a3bba9731",
   "metadata": {},
   "outputs": [],
   "source": [
    "import matplotlib.pyplot as plt"
   ]
  },
  {
   "cell_type": "code",
   "execution_count": null,
   "id": "41c3cf74-5f11-4fff-a1e1-85a74c91ad54",
   "metadata": {},
   "outputs": [],
   "source": [
    "dados.plot()"
   ]
  },
  {
   "cell_type": "code",
   "execution_count": null,
   "id": "0b6f0a99-0350-43fe-97b5-0a6d2b6fe1ab",
   "metadata": {},
   "outputs": [],
   "source": [
    "dados.plot.box()"
   ]
  },
  {
   "cell_type": "code",
   "execution_count": null,
   "id": "1205c121-3854-4be0-a47d-5c896bee8e8e",
   "metadata": {},
   "outputs": [],
   "source": [
    "dados[\"VL_EMPENHADO\"].mean()"
   ]
  },
  {
   "cell_type": "code",
   "execution_count": null,
   "id": "f1719b65-96f9-4a72-83de-25586efb2937",
   "metadata": {},
   "outputs": [],
   "source": [
    "dados[\"VL_EMPENHADO\"].stdev()"
   ]
  },
  {
   "cell_type": "code",
   "execution_count": null,
   "id": "5d570b90-e367-46aa-bd0c-c33d0824dc76",
   "metadata": {},
   "outputs": [],
   "source": []
  }
 ],
 "metadata": {
  "kernelspec": {
   "display_name": "Python 3 (ipykernel)",
   "language": "python",
   "name": "python3"
  },
  "language_info": {
   "codemirror_mode": {
    "name": "ipython",
    "version": 3
   },
   "file_extension": ".py",
   "mimetype": "text/x-python",
   "name": "python",
   "nbconvert_exporter": "python",
   "pygments_lexer": "ipython3",
   "version": "3.10.9"
  }
 },
 "nbformat": 4,
 "nbformat_minor": 5
}
